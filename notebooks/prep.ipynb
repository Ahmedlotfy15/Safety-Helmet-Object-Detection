{
  "cells": [
    {
      "cell_type": "code",
      "execution_count": 1,
      "metadata": {},
      "outputs": [
        {
          "name": "stdout",
          "output_type": "stream",
          "text": [
            "e:\\Safety-Helmet-Object-Detection\n"
          ]
        }
      ],
      "source": [
        "%cd .."
      ]
    },
    {
      "cell_type": "code",
      "execution_count": 2,
      "metadata": {
        "id": "Z3wnpw3NbJpe"
      },
      "outputs": [],
      "source": [
        "import yaml"
      ]
    },
    {
      "cell_type": "code",
      "execution_count": 3,
      "metadata": {
        "id": "2y5smuWUdfCd"
      },
      "outputs": [],
      "source": [
        "with open(\"safety-helmet-1/data.yaml\", \"r\") as f:\n",
        "  data_yaml = yaml.safe_load(f)"
      ]
    },
    {
      "cell_type": "code",
      "execution_count": 4,
      "metadata": {
        "colab": {
          "base_uri": "https://localhost:8080/"
        },
        "id": "XP19OKp5dxuC",
        "outputId": "b592c2f0-455b-4a5e-f377-fe4ac43d0ceb"
      },
      "outputs": [
        {
          "name": "stdout",
          "output_type": "stream",
          "text": [
            "Number of classes: 2\n",
            "Class Names: ['helm', 'no-helm']\n"
          ]
        }
      ],
      "source": [
        "print(\"Number of classes:\", len(data_yaml[\"names\"]))\n",
        "print(\"Class Names:\" , data_yaml[\"names\"])"
      ]
    },
    {
      "cell_type": "code",
      "execution_count": 5,
      "metadata": {
        "id": "wiu4jD2wev-T"
      },
      "outputs": [],
      "source": [
        "import os"
      ]
    },
    {
      "cell_type": "code",
      "execution_count": 6,
      "metadata": {
        "id": "J4lyE-dFfRif"
      },
      "outputs": [],
      "source": [
        "def count_images(floder):\n",
        "  image_exentions=['.jpg','.jpeg','.png']\n",
        "  return len([file for file in os.listdir(floder) if os.path.splitext(file)[1].lower() in image_exentions])"
      ]
    },
    {
      "cell_type": "code",
      "execution_count": 9,
      "metadata": {
        "id": "DK7bZ8vBgZMg"
      },
      "outputs": [],
      "source": [
        "base_path='safety-helmet-1'"
      ]
    },
    {
      "cell_type": "code",
      "execution_count": 10,
      "metadata": {
        "colab": {
          "base_uri": "https://localhost:8080/"
        },
        "id": "iaMcBpMCgoiG",
        "outputId": "3c98e629-83ca-4e20-8361-10ec5b2edf14"
      },
      "outputs": [
        {
          "name": "stdout",
          "output_type": "stream",
          "text": [
            "Training Images: 1005\n",
            "Test Images: 119\n",
            "Validation Images: 117\n"
          ]
        }
      ],
      "source": [
        "print(\"Training Images:\", count_images(os.path.join(base_path,'train','images')))\n",
        "print(\"Test Images:\", count_images(os.path.join(base_path,'test','images')))\n",
        "print(\"Validation Images:\", count_images(os.path.join(base_path,'valid','images')))\n"
      ]
    },
    {
      "cell_type": "code",
      "execution_count": 11,
      "metadata": {
        "id": "0lBiK5KAsZVU"
      },
      "outputs": [],
      "source": [
        "from collections import Counter"
      ]
    },
    {
      "cell_type": "code",
      "execution_count": 12,
      "metadata": {
        "id": "wnlnIfDdspHe"
      },
      "outputs": [],
      "source": [
        "def count_labels(label_path):\n",
        "  total_counter=Counter()\n",
        "  for label_file in os.listdir(label_path):\n",
        "    with open(os.path.join(label_path,label_file),'r') as f:\n",
        "      lines=f.readlines()\n",
        "      classes=[int(line.split()[0]) for line in lines]\n",
        "      total_counter.update(classes)\n",
        "  return total_counter"
      ]
    },
    {
      "cell_type": "code",
      "execution_count": 13,
      "metadata": {
        "id": "SGgEBUGttOsz"
      },
      "outputs": [],
      "source": [
        "train_labels=count_labels(os.path.join(base_path,'train','labels'))\n",
        "valid_labels=count_labels(os.path.join(base_path,'valid','labels'))\n",
        "test_labels=count_labels(os.path.join(base_path,'test','labels'))"
      ]
    },
    {
      "cell_type": "code",
      "execution_count": 14,
      "metadata": {
        "colab": {
          "base_uri": "https://localhost:8080/"
        },
        "id": "wxHFNOgPtW4J",
        "outputId": "f4dc896b-0f89-4509-ce86-35fc48659fe1"
      },
      "outputs": [
        {
          "name": "stdout",
          "output_type": "stream",
          "text": [
            "Train label distribution: Counter({1: 3906, 0: 831})\n",
            "Valid label distribution: Counter({1: 295, 0: 150})\n",
            "Test label distribution: Counter({0: 272})\n"
          ]
        }
      ],
      "source": [
        "print(\"Train label distribution:\", train_labels)\n",
        "print(\"Valid label distribution:\", valid_labels)\n",
        "print(\"Test label distribution:\", test_labels)"
      ]
    },
    {
      "cell_type": "code",
      "execution_count": 15,
      "metadata": {
        "id": "0qZ_GeMDtZ42"
      },
      "outputs": [],
      "source": [
        "def find_unlabeled_images(image_path,label_path):\n",
        "  images_files=[os.path.splitext(file)[0] for file in os.listdir(image_path) if file.lower().endswith(('.jpg','.png'))]\n",
        "  labels_files=[os.path.splitext(file)[0] for file in os.listdir(label_path)]\n",
        "  unlabeled_images=set(images_files)-set(labels_files)\n",
        "  return unlabeled_images"
      ]
    },
    {
      "cell_type": "code",
      "execution_count": 16,
      "metadata": {
        "colab": {
          "base_uri": "https://localhost:8080/"
        },
        "id": "D7nxbDCEwwb9",
        "outputId": "f2fc4f20-9227-429f-d9f4-ee738bc65c36"
      },
      "outputs": [
        {
          "name": "stdout",
          "output_type": "stream",
          "text": [
            "Unlabeled images in train: 0\n"
          ]
        }
      ],
      "source": [
        "unlabeled_train = find_unlabeled_images(os.path.join(base_path, \"train\", \"images\"), os.path.join(base_path, \"train\", \"labels\"))\n",
        "print(\"Unlabeled images in train:\", len(unlabeled_train))"
      ]
    },
    {
      "cell_type": "code",
      "execution_count": null,
      "metadata": {
        "id": "zaZVZBIUwwvf"
      },
      "outputs": [],
      "source": []
    }
  ],
  "metadata": {
    "colab": {
      "provenance": []
    },
    "kernelspec": {
      "display_name": "env",
      "language": "python",
      "name": "python3"
    },
    "language_info": {
      "codemirror_mode": {
        "name": "ipython",
        "version": 3
      },
      "file_extension": ".py",
      "mimetype": "text/x-python",
      "name": "python",
      "nbconvert_exporter": "python",
      "pygments_lexer": "ipython3",
      "version": "3.11.11"
    }
  },
  "nbformat": 4,
  "nbformat_minor": 0
}
